{
 "cells": [
  {
   "cell_type": "code",
   "execution_count": 2,
   "metadata": {},
   "outputs": [
    {
     "data": {
      "text/plain": [
       "<All keys matched successfully>"
      ]
     },
     "execution_count": 2,
     "metadata": {},
     "output_type": "execute_result"
    }
   ],
   "source": [
    "import pickle\n",
    "import torch\n",
    "\n",
    "# Specify the path to your pickle file\n",
    "pickle_file_path = 'results/11-9-14:38:47.config.pkl'\n",
    "    \n",
    "# Load the pickle file\n",
    "with open(pickle_file_path, 'rb') as file:\n",
    "    config = pickle.load(file)\n",
    "\n",
    "from CellPLM.model import OmicsFormer\n",
    "\n",
    "model = OmicsFormer(**config)\n",
    "\n",
    "path = '/data/civy/integration/11-9-14:42:40_with_token_test.pt'\n",
    "\n",
    "model.load_state_dict(torch.load(path))"
   ]
  },
  {
   "cell_type": "code",
   "execution_count": 3,
   "metadata": {},
   "outputs": [],
   "source": [
    "import scanpy as sc\n",
    "from scipy import  sparse\n",
    "\n",
    "import torch\n",
    "\n",
    "data = sc.read_h5ad('2000.h5ad')\n",
    "if 'platform' not in data.obs:\n",
    "    data.obs['platform'] = 'scRNA-seq'\n",
    "if 'Dataset' not in data.obs:\n",
    "    data.obs['Dataset'] = data.obs['study']\n",
    "if 'batch_label' in data.obs:\n",
    "    data.obs['batch'] = data.obs['batch_label']\n",
    "gene_list = data.var.index.to_list()\n",
    "gene_dict = dict(zip(data.obs['Dataset'].unique(), [torch.ones(len(gene_list)).bool()] * data.obs['Dataset'].nunique()))\n",
    "ndataset = data.obs['Dataset'].nunique()\n",
    "\n",
    "\n",
    "from CellPLM.utils.data import XDict, clean_batches, balanced_partition, data_setup\n",
    "\n",
    "seq_list, batch_list, batch_labels, order_list, dataset_list, coord_list, label_list = data_setup(data, return_sparse=False)\n",
    "\n",
    "partitions = balanced_partition(batch_list, 1)"
   ]
  },
  {
   "cell_type": "code",
   "execution_count": 5,
   "metadata": {},
   "outputs": [],
   "source": [
    "import torch.nn as nn \n",
    "from torch.nn import  functional as F\n",
    "\n",
    "class new_encoder(nn.Module):\n",
    "    def __init__(self, encoder):\n",
    "        super(new_encoder, self).__init__()\n",
    "        \n",
    "        self.__dict__.update(encoder.__dict__)  \n",
    "        \n",
    "\n",
    "    def forward(self, x_dict, output_attentions=False):\n",
    "        h = x_dict['h']\n",
    "        att_list = []\n",
    "        for l in range(self.num_layers):\n",
    "\n",
    "            if l == 0:\n",
    "                x_dict['base0'] = h.detach()\n",
    "            if output_attentions:\n",
    "                h, att = self.layers[l](h, output_attentions=True)\n",
    "                #print(att.shape)\n",
    "                att_list.append(att)\n",
    "            else:\n",
    "                h = self.layers[l](h)\n",
    "            if l == 0:\n",
    "                x_dict['base1'] = h.detach()\n",
    "\n",
    "        if False:\n",
    "            return h\n",
    "        else:\n",
    "            return h\n",
    "\n",
    "class Igwrapper(nn.Module):\n",
    "    def __init__(self, model):\n",
    "        super(Igwrapper, self).__init__()\n",
    "        self.model = model\n",
    "        self.encoder = new_encoder(model.encoder)\n",
    "    def forward(self, x, batch, coord, gene_mask, dataset):\n",
    "        x_dict = XDict({'x_seq': x.cuda(),  # seq_list[i].cuda(rank),\n",
    "                        'batch': batch.cuda(),\n",
    "                        'coord': coord.cuda(),\n",
    "                        'gene_mask': gene_mask.cuda(),\n",
    "                         'dataset': dataset.cuda(),\n",
    "                        })\n",
    "        x_dict['h'] = self.model.embedder(x_dict, None)\n",
    "        if self.model.reg_token is not None:\n",
    "            x_dict['h'] = torch.cat([x_dict['h'], self.model.reg_token])\n",
    "        x_dict['h'] = self.encoder(x_dict, False)\n",
    "        x_dict['h'] = x_dict['h'][:-8]\n",
    " \n",
    "        x_dict['h'], latent_loss = self.model.latent(x_dict)\n",
    "        if self.model.head_type is not None:\n",
    "            out_dict, loss = self.model.head(x_dict)\n",
    "            out_dict['latent_loss'] = latent_loss.item() if torch.is_tensor(latent_loss) else latent_loss\n",
    "            out_dict['target_loss'] = loss.item()\n",
    "        else:\n",
    "            out_dict = self.model.decoder(x_dict)\n",
    "        return out_dict['recon']\n",
    "    def get_rep(self, x_dict):\n",
    "        x_dict['h'] = self.model.embedder(x_dict, None)\n",
    "        if self.model.reg_token is not None:\n",
    "            x_dict['h'] = torch.cat([x_dict['h'], self.model.reg_token])\n",
    "        x_dict['h'] = self.encoder(x_dict, False)\n",
    "        return  x_dict['h'][-8:]\n",
    "        \n",
    "\n",
    "\n",
    "import torch.nn as nn \n",
    "from torch.nn import  functional as F\n",
    "\n",
    "class Encoderwrapper(nn.Module):\n",
    "    def __init__(self, model):\n",
    "        super(Encoderwrapper, self).__init__()\n",
    "        self.model = model\n",
    "    def forward(self, x, batch, coord, gene_mask, dataset):\n",
    "        x_dict = XDict({'x_seq': x.cuda(),  # seq_list[i].cuda(rank),\n",
    "                        'batch': batch.cuda(),\n",
    "                        'coord': coord.cuda(),\n",
    "                        'gene_mask': gene_mask.cuda(),\n",
    "                         'dataset': dataset.cuda(),\n",
    "                        })\n",
    "        x_dict['h'] = self.model.embedder(x_dict, None)\n",
    "        if self.model.reg_token is not None:\n",
    "            x_dict['h'] = torch.cat([x_dict['h'], self.model.reg_token])\n",
    "        x_dict['h'] = self.model.encoder(x_dict, False)['hidden']\n",
    "        #print(x_dict['h'].shape)\n",
    "        if self.model.reg_token is not None:\n",
    "            x_dict['h'] = x_dict['h'][:-8]\n",
    "        x_dict['h'], latent_loss = self.model.latent(x_dict)\n",
    "        return x_dict['h']"
   ]
  },
  {
   "cell_type": "code",
   "execution_count": 6,
   "metadata": {},
   "outputs": [
    {
     "name": "stderr",
     "output_type": "stream",
     "text": [
      "2023-12-17 12:33:41.598006: W tensorflow/compiler/tf2tensorrt/utils/py_utils.cc:38] TF-TRT Warning: Could not find TensorRT\n",
      "/data/civy/miniconda3/lib/python3.10/site-packages/captum/attr/_utils/visualization.py:15: DeprecationWarning: Importing display from IPython.core.display is deprecated since IPython 7.14, please import from IPython display\n",
      "  from IPython.core.display import display, HTML\n"
     ]
    }
   ],
   "source": [
    "from CellPLM.utils.eval import minimum_eval, clustering_eval, CountCorr\n",
    "import pandas as pd\n",
    "import anndata as ad  \n",
    "from captum.attr import  IntegratedGradients\n",
    "from lfxai.explanations.features import attribute_auxiliary\n",
    "from torch.utils.data import Dataset, TensorDataset, DataLoader\n",
    "\n",
    "import hdf5plugin\n",
    "\n",
    "c = []\n",
    "model.eval()\n",
    "model.cuda(0)\n",
    "\n",
    "net = Igwrapper(model)\n",
    "\n",
    "ig = IntegratedGradients(net)\n",
    "\n",
    "attrs = []\n",
    "\n",
    "num = 100\n",
    "with torch.no_grad():\n",
    "    for i in range(1):#len(batch_list)):\n",
    "        c = []\n",
    "        res = []\n",
    "        attns = []\n",
    "        index = torch.arange(seq_list[i].shape[0])[:num]\n",
    "        x = seq_list[i][index]\n",
    "        baseline = torch.zeros_like(x)\n",
    "        attr = ig.attribute(inputs=x.cuda(0), target=2, baselines=baseline.cuda(0), additional_forward_args=(batch_list[i][:num].cuda(), coord_list[i][:num].cuda(), torch.ones([x.shape[1]]).bool().cuda(),  dataset_list[i][:num].cuda()))\n",
    "        attrs.append(attr)"
   ]
  },
  {
   "cell_type": "code",
   "execution_count": 7,
   "metadata": {},
   "outputs": [
    {
     "name": "stdout",
     "output_type": "stream",
     "text": [
      "['CCL5', 'PRF1', 'GNLY', 'KLRD1', 'GZMA'] AOC1\n"
     ]
    }
   ],
   "source": [
    "attrs = torch.cat(attrs)\n",
    "\n",
    "final = attrs.reshape(1,100,2000)\n",
    "\n",
    "normalize_final = torch.nn.functional.normalize(final, dim=-1)\n",
    "\n",
    "sum_final = normalize_final.sum(1)\n",
    "\n",
    "print(data.var_names[torch.argsort(-abs(sum_final[0].squeeze(0)))[:5].cpu()].tolist(),  data.var_names[2])"
   ]
  }
 ],
 "metadata": {
  "kernelspec": {
   "display_name": "base",
   "language": "python",
   "name": "python3"
  },
  "language_info": {
   "codemirror_mode": {
    "name": "ipython",
    "version": 3
   },
   "file_extension": ".py",
   "mimetype": "text/x-python",
   "name": "python",
   "nbconvert_exporter": "python",
   "pygments_lexer": "ipython3",
   "version": "3.10.12"
  }
 },
 "nbformat": 4,
 "nbformat_minor": 2
}
